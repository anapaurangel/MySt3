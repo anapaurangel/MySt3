{
 "cells": [
  {
   "cell_type": "markdown",
   "metadata": {},
   "source": [
    "# Laboratorio 4 (Análisis Fundamental)\n",
    "\n",
    "Laboratorio 5: Análisis Técnico y/o fundamental.\n",
    "\n",
    "Recuerda que la fecha de ésta es la última en la cual puedes realizar modificaciones en repositorio del laboratorio. Este espacio sólo es para subir evidencia del laboratorio, la revisión oficial del contenido la haré siempre desde el repositorio.\n",
    "Sobre este laboratorio:\n",
    "\n",
    "- El propósito: Que puedas describir los efectos cuantitativos en el precio durante los comunicados de indicadores macroeconómicos, así como el detectar oportunidades de inversión a partir de los resultados obtenidos. Lo anterior, utilizando lo que se conoce como \"Calendario Económico\", y más en particular, aquel que incorpora información de las principales economías del mundo por lo que es ampliamiente utilizado en el mercado de Forex.\n",
    "Recuerda que:\n",
    "\n",
    "- En este espacio debes de subir el jupyter notebook de la versión final.\n",
    "\n",
    "- Todos los integrantes del equipo deben de subir el mismo archivo.\n",
    "\n",
    "- El nombre del archivo debe de ser como sigue: equipo_myst_laboratorio1\n",
    "\n",
    "#### Equipo:\n",
    "\n",
    "Mariana Lopez Correa\n",
    "\n",
    "Axel Quintero\n",
    "\n",
    "Luis Ontaneda\n",
    "\n",
    "Ana Paula Rangel\n",
    "\n"
   ]
  },
  {
   "cell_type": "markdown",
   "metadata": {},
   "source": [
    "### Indices elegidos\n",
    " \n",
    "ISM Manufacturing PMI\n",
    "https://www.fxstreet.com/economic-calendar/event/2e1d69f3-8273-4096-b01b-8d2034d4fade?timezoneOffset=0\n",
    "    \n",
    "Nonfarm Payrolls\n",
    "https://www.fxstreet.com/economic-calendar/event/9cdf56fd-99e4-4026-aa99-2b6c0ca92811?timezoneOffset=0\n"
   ]
  },
  {
   "cell_type": "code",
   "execution_count": null,
   "metadata": {},
   "outputs": [],
   "source": []
  }
 ],
 "metadata": {
  "kernelspec": {
   "display_name": "Python 3",
   "language": "python",
   "name": "python3"
  },
  "language_info": {
   "codemirror_mode": {
    "name": "ipython",
    "version": 3
   },
   "file_extension": ".py",
   "mimetype": "text/x-python",
   "name": "python",
   "nbconvert_exporter": "python",
   "pygments_lexer": "ipython3",
   "version": "3.6.6"
  }
 },
 "nbformat": 4,
 "nbformat_minor": 2
}
