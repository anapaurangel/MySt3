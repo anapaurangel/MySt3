{
 "cells": [
  {
   "cell_type": "markdown",
   "metadata": {},
   "source": [
    "# Laboratorio 4 (Análisis Fundamental)\n",
    "\n",
    "Laboratorio 5: Análisis Técnico y/o fundamental.\n",
    "\n",
    "Recuerda que la fecha de ésta es la última en la cual puedes realizar modificaciones en repositorio del laboratorio. Este espacio sólo es para subir evidencia del laboratorio, la revisión oficial del contenido la haré siempre desde el repositorio.\n",
    "Sobre este laboratorio:\n",
    "\n",
    "- El propósito: Que puedas describir los efectos cuantitativos en el precio durante los comunicados de indicadores macroeconómicos, así como el detectar oportunidades de inversión a partir de los resultados obtenidos. Lo anterior, utilizando lo que se conoce como \"Calendario Económico\", y más en particular, aquel que incorpora información de las principales economías del mundo por lo que es ampliamiente utilizado en el mercado de Forex.\n",
    "Recuerda que:\n",
    "\n",
    "- En este espacio debes de subir el jupyter notebook de la versión final.\n",
    "\n",
    "- Todos los integrantes del equipo deben de subir el mismo archivo.\n",
    "\n",
    "- El nombre del archivo debe de ser como sigue: equipo_myst_laboratorio1\n",
    "\n",
    "#### Equipo:\n",
    "\n",
    "Mariana Lopez Correa\n",
    "\n",
    "Axel Quintero\n",
    "\n",
    "Luis Ontaneda\n",
    "\n",
    "Ana Paula Rangel\n",
    "\n"
   ]
  },
  {
   "cell_type": "markdown",
   "metadata": {},
   "source": [
    "En código \n",
    "· Elimina filas que no tengan Actual \n",
    "· Para las filas que no tengan Consensus, usa Previous como Consensus \n",
    "· Clasifica las observaciones de los comunicados según el siguiente criteritio \n",
    "\n",
    "o A Actual >= Consensus >= Previous \n",
    "o B Actual >= Consensus < Previous \n",
    "o C Actual < Consensus >= Previous \n",
    "o D Actual < Consensus < Previous \n",
    "\n",
    "· Descargar precios, en intervalos de 5min, de los 20 min antes y 20 min despues de cada ocasión en la que se hizo el comunicado del indicador económico. De tal manera que deberás de contar, para cada fecha en la que se comunicó el indicador, un data frame con 4 renglones anteriores (1 por cada periodo de 1 min con los precios OHLC), el renglon donde sucedió el comunicado, y 4 renglones posteriores. \n",
    "\n",
    "Calcular 3 métricas para cada vez que sucede cada uno de los escenarios (tomando en cuenta todos los datos que recabaste). \n",
    "o (Dirección) Open - Close \n",
    "o (Pips Alcistas) High – Open \n",
    "o (Pips Bajistas) Open – Close \n",
    "\n",
    "La llave es la fecha de cada indicador (diccionarios)\n",
    "\n",
    "o Utilizar archivo Calendario Economico (2009 – 2019) que está en moodle. \n",
    "o Utilizar archivo Precios Históricos (2019) que está en moodle (para hacer pruebas iniciales). \n",
    "o Utilizar archivo Precios Históricos (2009 - 2019) que está en moodle (para correr el código cuando esté terminado).\n"
   ]
  },
  {
   "cell_type": "markdown",
   "metadata": {},
   "source": [
    "### Indices elegidos\n",
    " \n",
    "EIA Crude Oil Stocks Change\n",
    "https://www.fxstreet.com/economic-calendar/event/8d7aa189-8c90-45a1-a5ee-82d480271b8f?timezoneOffset=0\n",
    "\n",
    "Nonfarm Payrolls\n",
    "https://www.fxstreet.com/economic-calendar/event/9cdf56fd-99e4-4026-aa99-2b6c0ca92811?timezoneOffset=0\n"
   ]
  },
  {
   "cell_type": "code",
   "execution_count": 21,
   "metadata": {},
   "outputs": [],
   "source": [
    "import pandas as pd\n",
    "import math \n",
    "import pandas as pd\n",
    "import numpy as np\n",
    "import warnings\n",
    "import datetime\n",
    "warnings.filterwarnings(\"ignore\")"
   ]
  },
  {
   "cell_type": "code",
   "execution_count": 3,
   "metadata": {},
   "outputs": [],
   "source": [
    "df = pd.read_csv(\"Excel.csv\")\n",
    "prices = pd.read_csv(\"precios_historicos_eurusd_2019.csv\")\n",
    "EIA = df.loc[df[\"Name\"] == \"EIA Crude Oil Stocks Change\"].reset_index(drop=True)\n",
    "Nonfarm = df.loc[df[\"Name\"] == \"Nonfarm Payrolls\"].reset_index(drop=True)\n",
    "EIA.consensus.fillna(EIA.previous, inplace=True)\n",
    "Nonfarm.consensus.fillna(Nonfarm.previous, inplace=True)"
   ]
  },
  {
   "cell_type": "code",
   "execution_count": 4,
   "metadata": {},
   "outputs": [],
   "source": [
    "prices[\"timestamp\"] = pd.to_datetime(prices[\"timestamp\"])\n",
    "prices[\"timestamp\"] = prices[\"timestamp\"].dt.tz_localize('GMT')\n",
    "EIA[\"timestamp\"] = pd.to_datetime(EIA[\"timestamp\"])\n",
    "EIA[\"timestamp\"] = EIA[\"timestamp\"].dt.tz_localize('GMT')\n",
    "Nonfarm[\"timestamp\"] = pd.to_datetime(Nonfarm[\"timestamp\"])\n",
    "Nonfarm[\"timestamp\"] = Nonfarm[\"timestamp\"].dt.tz_localize('GMT')"
   ]
  },
  {
   "cell_type": "code",
   "execution_count": 5,
   "metadata": {},
   "outputs": [],
   "source": [
    "def clase(x):\n",
    "    x[\"escenario\"] = x[\"actual\"]\n",
    "    for i in range(len(x[\"actual\"])):\n",
    "        if x[\"actual\"][i] >= x[\"consensus\"][i] >= x[\"previous\"][i]:\n",
    "            x[\"escenario\"][i] = \"A\"\n",
    "        elif x[\"actual\"][i] >= x[\"consensus\"][i] < x[\"previous\"][i]:\n",
    "            x[\"escenario\"][i] = \"B\"\n",
    "        elif x[\"actual\"][i] < x[\"consensus\"][i] >= x[\"previous\"][i]:\n",
    "            x[\"escenario\"][i] = \"C\"\n",
    "        elif x[\"actual\"][i] < x[\"consensus\"][i] < x[\"previous\"][i]:\n",
    "            x[\"escenario\"][i] = \"D\"\n",
    "    \n",
    "    return x"
   ]
  },
  {
   "cell_type": "code",
   "execution_count": 208,
   "metadata": {},
   "outputs": [],
   "source": [
    "def periodos(x,prices):\n",
    "    xt = prices[\"timestamp\"].isin(x[\"timestamp\"])\n",
    "    xt = [i for i in range(len(xt)) if xt[i] == True]\n",
    "    t = [prices[\"timestamp\"][i] for i in xt]\n",
    "    xtprt = [prices.iloc[i-5:i+6] for i in xt]\n",
    "    \n",
    "    return xtprt,t"
   ]
  },
  {
   "cell_type": "code",
   "execution_count": 192,
   "metadata": {},
   "outputs": [],
   "source": [
    "EIA = clase(EIA)\n",
    "Nonfarm = clase(Nonfarm)"
   ]
  },
  {
   "cell_type": "code",
   "execution_count": 203,
   "metadata": {},
   "outputs": [],
   "source": [
    "EIAper,EIAt, = periodos(EIA,prices)\n",
    "Nonfarmper,Nonfarmtt = periodos(Nonfarm,prices)"
   ]
  },
  {
   "cell_type": "code",
   "execution_count": 120,
   "metadata": {},
   "outputs": [],
   "source": [
    "dire = lambda x: x.iloc[-1,-1]-x.iloc[int(len(x)/2),1]\n",
    "alc = lambda x: "
   ]
  },
  {
   "cell_type": "code",
   "execution_count": 146,
   "metadata": {},
   "outputs": [],
   "source": [
    "direccion = [dire(i.reset_index(drop=True)) for i in EIAper]"
   ]
  },
  {
   "cell_type": "code",
   "execution_count": 223,
   "metadata": {},
   "outputs": [
    {
     "data": {
      "text/plain": [
       "[Timestamp('2019-01-03 17:05:00+0000', tz='GMT'),\n",
       " Timestamp('2019-01-03 17:10:00+0000', tz='GMT'),\n",
       " Timestamp('2019-01-03 17:15:00+0000', tz='GMT'),\n",
       " Timestamp('2019-01-03 17:20:00+0000', tz='GMT'),\n",
       " Timestamp('2019-01-03 17:25:00+0000', tz='GMT'),\n",
       " Timestamp('2019-01-03 17:30:00+0000', tz='GMT'),\n",
       " Timestamp('2019-01-03 17:35:00+0000', tz='GMT'),\n",
       " Timestamp('2019-01-03 17:40:00+0000', tz='GMT'),\n",
       " Timestamp('2019-01-03 17:45:00+0000', tz='GMT'),\n",
       " Timestamp('2019-01-03 17:50:00+0000', tz='GMT'),\n",
       " Timestamp('2019-01-03 17:55:00+0000', tz='GMT'),\n",
       " Timestamp('2019-01-03 18:00:00+0000', tz='GMT'),\n",
       " Timestamp('2019-01-03 18:05:00+0000', tz='GMT'),\n",
       " Timestamp('2019-01-03 18:10:00+0000', tz='GMT'),\n",
       " Timestamp('2019-01-03 18:15:00+0000', tz='GMT'),\n",
       " Timestamp('2019-01-03 18:20:00+0000', tz='GMT'),\n",
       " Timestamp('2019-01-03 18:25:00+0000', tz='GMT'),\n",
       " Timestamp('2019-01-03 18:30:00+0000', tz='GMT'),\n",
       " Timestamp('2019-01-03 18:35:00+0000', tz='GMT'),\n",
       " Timestamp('2019-01-03 18:40:00+0000', tz='GMT'),\n",
       " Timestamp('2019-01-03 18:45:00+0000', tz='GMT'),\n",
       " Timestamp('2019-01-03 18:50:00+0000', tz='GMT'),\n",
       " Timestamp('2019-01-03 18:55:00+0000', tz='GMT'),\n",
       " Timestamp('2019-01-03 19:00:00+0000', tz='GMT'),\n",
       " Timestamp('2019-01-03 19:05:00+0000', tz='GMT'),\n",
       " Timestamp('2019-01-03 19:10:00+0000', tz='GMT'),\n",
       " Timestamp('2019-01-03 19:15:00+0000', tz='GMT'),\n",
       " Timestamp('2019-01-03 19:20:00+0000', tz='GMT'),\n",
       " Timestamp('2019-01-03 19:25:00+0000', tz='GMT'),\n",
       " Timestamp('2019-01-03 19:30:00+0000', tz='GMT'),\n",
       " Timestamp('2019-01-03 19:35:00+0000', tz='GMT'),\n",
       " Timestamp('2019-01-03 19:40:00+0000', tz='GMT'),\n",
       " Timestamp('2019-01-03 19:45:00+0000', tz='GMT'),\n",
       " Timestamp('2019-01-03 19:50:00+0000', tz='GMT'),\n",
       " Timestamp('2019-01-03 19:55:00+0000', tz='GMT'),\n",
       " Timestamp('2019-01-03 20:00:00+0000', tz='GMT'),\n",
       " Timestamp('2019-01-03 20:05:00+0000', tz='GMT'),\n",
       " Timestamp('2019-01-03 20:10:00+0000', tz='GMT'),\n",
       " Timestamp('2019-01-03 20:15:00+0000', tz='GMT')]"
      ]
     },
     "execution_count": 223,
     "metadata": {},
     "output_type": "execute_result"
    }
   ],
   "source": [
    "EIAt"
   ]
  },
  {
   "cell_type": "markdown",
   "metadata": {},
   "source": [
    "**Nonfarm Payrolls**\n",
    "https://www.fxstreet.com/economic-calendar/event/9cdf56fd-99e4-4026-aa99-2b6c0ca92811?timezoneOffset=0\n",
    "En este índice se presenta el número de los trabajos que no están relacionados con agricultura, creados durante el mes anterior. Este índice es muy volátil debido a su fuerte relación con las decisiones políticas económicas que toma el banco central.\n",
    "Generalmente una lectura alta representa un impacto positivo para el USD, mientras que una lectura as baja de la esperada representa in impacto negativo para el USD\n",
    "\n",
    "EIA Crude Oil Stocks Change\n",
    "https://www.fxstreet.com/economic-calendar/event/8d7aa189-8c90-45a1-a5ee-82d480271b8f?timezoneOffset=0\n",
    "Este Índice se muestran reportes semanales del cambio en el numero de barriles de petróleo crudo y sus derivados.\n",
    "Este reporte tiende amostrar gran volatilidad, debido a que los precios de petróleo imputan en la economía mundial, afectando a las monedas relacionadas como es el dólar canadiense, aun así, tiene un impacto limitado, este reporte tiende a afectar el precio del petróleo.\n",
    "Este reporte este hecho a base de datos de todas las compañías que tienen mínimo 1,000 barriles de petróleo.\n",
    "El aumento de las acciones petróleo de Estados Unidos puede indicar un decremento en a demanda de petróleo crudo o un aumento en la producción. El incremento negativo afecta a los precios globales del petróleo a corto plazo. Una tendencia a la baja solo se crea cuando las acciones del petróleo crudo aumentan continuamente por varias semanas seguidas"
   ]
  },
  {
   "cell_type": "code",
   "execution_count": null,
   "metadata": {},
   "outputs": [],
   "source": []
  }
 ],
 "metadata": {
  "kernelspec": {
   "display_name": "Python 3",
   "language": "python",
   "name": "python3"
  }
 },
 "nbformat": 4,
 "nbformat_minor": 2
}
