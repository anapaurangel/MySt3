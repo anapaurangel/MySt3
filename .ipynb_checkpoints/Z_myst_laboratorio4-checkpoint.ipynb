{
 "cells": [
  {
   "cell_type": "markdown",
   "metadata": {},
   "source": [
    "# Laboratorio 4 (Análisis Fundamental)\n",
    "\n",
    "Laboratorio 5: Análisis Técnico y/o fundamental.\n",
    "\n",
    "Recuerda que la fecha de ésta es la última en la cual puedes realizar modificaciones en repositorio del laboratorio. Este espacio sólo es para subir evidencia del laboratorio, la revisión oficial del contenido la haré siempre desde el repositorio.\n",
    "Sobre este laboratorio:\n",
    "\n",
    "- El propósito: Que puedas describir los efectos cuantitativos en el precio durante los comunicados de indicadores macroeconómicos, así como el detectar oportunidades de inversión a partir de los resultados obtenidos. Lo anterior, utilizando lo que se conoce como \"Calendario Económico\", y más en particular, aquel que incorpora información de las principales economías del mundo por lo que es ampliamiente utilizado en el mercado de Forex.\n",
    "Recuerda que:\n",
    "\n",
    "- En este espacio debes de subir el jupyter notebook de la versión final.\n",
    "\n",
    "- Todos los integrantes del equipo deben de subir el mismo archivo.\n",
    "\n",
    "- El nombre del archivo debe de ser como sigue: equipo_myst_laboratorio1\n",
    "\n",
    "#### Equipo:\n",
    "\n",
    "Mariana Lopez Correa\n",
    "\n",
    "Axel Quintero\n",
    "\n",
    "Luis Ontaneda\n",
    "\n",
    "Ana Paula Rangel\n",
    "\n"
   ]
  },
  {
   "cell_type": "markdown",
   "metadata": {},
   "source": [
    "En código \n",
    "· Elimina filas que no tengan Actual \n",
    "· Para las filas que no tengan Consensus, usa Previous como Consensus \n",
    "· Clasifica las observaciones de los comunicados según el siguiente criteritio \n",
    "\n",
    "o A Actual >= Consensus >= Previous \n",
    "o B Actual >= Consensus < Previous \n",
    "o C Actual < Consensus >= Previous \n",
    "o D Actual < Consensus < Previous \n",
    "\n",
    "· Descargar precios, en intervalos de 5min, de los 20 min antes y 20 min despues de cada ocasión en la que se hizo el comunicado del indicador económico. De tal manera que deberás de contar, para cada fecha en la que se comunicó el indicador, un data frame con 4 renglones anteriores (1 por cada periodo de 1 min con los precios OHLC), el renglon donde sucedió el comunicado, y 4 renglones posteriores. \n",
    "\n",
    "Calcular 3 métricas para cada vez que sucede cada uno de los escenarios (tomando en cuenta todos los datos que recabaste). \n",
    "o (Dirección) Open - Close \n",
    "o (Pips Alcistas) High – Open \n",
    "o (Pips Bajistas) Open – Close \n",
    "\n",
    "La llave es la fecha de cada indicador (diccionarios)\n",
    "\n",
    "o Utilizar archivo Calendario Economico (2009 – 2019) que está en moodle. \n",
    "o Utilizar archivo Precios Históricos (2019) que está en moodle (para hacer pruebas iniciales). \n",
    "o Utilizar archivo Precios Históricos (2009 - 2019) que está en moodle (para correr el código cuando esté terminado).\n"
   ]
  },
  {
   "cell_type": "markdown",
   "metadata": {},
   "source": [
    "### Indices elegidos\n",
    " \n",
    "EIA Crude Oil Stocks Change\n",
    "https://www.fxstreet.com/economic-calendar/event/8d7aa189-8c90-45a1-a5ee-82d480271b8f?timezoneOffset=0\n",
    "\n",
    "Nonfarm Payrolls\n",
    "https://www.fxstreet.com/economic-calendar/event/9cdf56fd-99e4-4026-aa99-2b6c0ca92811?timezoneOffset=0\n"
   ]
  },
  {
   "cell_type": "code",
   "execution_count": null,
   "metadata": {},
   "outputs": [],
   "source": []
  }
 ],
 "metadata": {
  "kernelspec": {
   "display_name": "Python 3",
   "language": "python",
   "name": "python3"
  },
  "language_info": {
   "codemirror_mode": {
    "name": "ipython",
    "version": 3
   },
   "file_extension": ".py",
   "mimetype": "text/x-python",
   "name": "python",
   "nbconvert_exporter": "python",
   "pygments_lexer": "ipython3",
   "version": "3.7.1"
  }
 },
 "nbformat": 4,
 "nbformat_minor": 2
}
